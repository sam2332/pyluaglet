{
 "cells": [
  {
   "cell_type": "code",
   "execution_count": null,
   "metadata": {},
   "outputs": [],
   "source": [
    "import json\n",
    "from collections import UserDict\n",
    "\n",
    "class DotNotationDict(UserDict):\n",
    "    def __getattr__(self, item):\n",
    "        if item in self.data:\n",
    "            value = self.data[item]\n",
    "            if isinstance(value, dict):\n",
    "                return DotNotationDict(value)\n",
    "            return value\n",
    "        raise AttributeError(f\"'DotNotationDict' object has no attribute '{item}'\")\n",
    "\n",
    "    def __setattr__(self, key, value):\n",
    "        if key == 'data':\n",
    "            super().__setattr__(key, value)\n",
    "        else:\n",
    "            self.data[key] = DotNotationDict(value) if isinstance(value, dict) else value\n",
    "\n",
    "    def __delattr__(self, item):\n",
    "        if item in self.data:\n",
    "            del self.data[item]\n",
    "        else:\n",
    "            raise AttributeError(f\"'DotNotationDict' object has no attribute '{item}'\")\n",
    "\n",
    "    def __getitem__(self, key):\n",
    "        value = super().__getitem__(key)\n",
    "        if isinstance(value, dict):\n",
    "            return DotNotationDict(value)\n",
    "        return value\n",
    "\n",
    "    def __setitem__(self, key, value):\n",
    "        super().__setitem__(key, DotNotationDict(value) if isinstance(value, dict) else value)\n",
    "\n",
    "    def get(self, item, default=None):\n",
    "        keys = item.split('.')\n",
    "        value = self.data\n",
    "        key = keys.pop(0)\n",
    "        if key in value:\n",
    "            \n",
    "            if not isinstance(value[key], dict):\n",
    "                value = value[key]\n",
    "            else:\n",
    "                return default\n",
    "        else:\n",
    "            return default\n",
    "        if isinstance(value, DotNotationDict):\n",
    "            return value.get('.'.join(keys), default)\n",
    "        return value\n",
    "\n",
    "    def to_dict(self):\n",
    "        return {key: (value.to_dict() if isinstance(value, DotNotationDict) else value)\n",
    "                for key, value in self.data.items()}\n",
    "\n",
    "    def to_json(self):\n",
    "        return json.dumps(self.to_dict())\n",
    "\n",
    "    @staticmethod\n",
    "    def from_json(json_str):\n",
    "        return DotNotationDict(json.loads(json_str))\n"
   ]
  },
  {
   "cell_type": "code",
   "execution_count": null,
   "metadata": {},
   "outputs": [],
   "source": [
    "\n",
    "# Test cases\n",
    "data = DotNotationDict({'tiles': {'player': {'up': 'value_up', 'down': 'value_down'}}})\n",
    "assert data.tiles.player.up == 'value_up'\n",
    "assert data.tiles.player.down == 'value_down'\n",
    "assert data.get('tiles.player.up') == 'value_up'\n",
    "assert data.get('tiles.player.down') == 'value_down'\n",
    "assert data.get('tiles.player.left') is None\n",
    "data.tiles.player.left = 'value_left'\n",
    "assert data.get('tiles.player.left') == 'value_left'\n",
    "assert data.to_dict() == {'tiles': {'player': {'up': 'value_up', 'down': 'value_down', 'left': 'value_left'}}}\n",
    "assert data.to_json() == '{\"tiles\": {\"player\": {\"up\": \"value_up\", \"down\": \"value_down\", \"left\": \"value_left\"}}}'\n"
   ]
  },
  {
   "cell_type": "code",
   "execution_count": null,
   "metadata": {},
   "outputs": [],
   "source": [
    "tiles.get(\"player.up\")"
   ]
  },
  {
   "cell_type": "code",
   "execution_count": null,
   "metadata": {},
   "outputs": [],
   "source": [
    "tiles.player.up"
   ]
  },
  {
   "cell_type": "code",
   "execution_count": null,
   "metadata": {},
   "outputs": [],
   "source": []
  },
  {
   "cell_type": "code",
   "execution_count": null,
   "metadata": {},
   "outputs": [],
   "source": [
    "tiles.get('player.left')"
   ]
  },
  {
   "cell_type": "code",
   "execution_count": null,
   "metadata": {},
   "outputs": [],
   "source": []
  }
 ],
 "metadata": {
  "kernelspec": {
   "display_name": "Python 3",
   "language": "python",
   "name": "python3"
  },
  "language_info": {
   "codemirror_mode": {
    "name": "ipython",
    "version": 3
   },
   "file_extension": ".py",
   "mimetype": "text/x-python",
   "name": "python",
   "nbconvert_exporter": "python",
   "pygments_lexer": "ipython3",
   "version": "3.10.12"
  }
 },
 "nbformat": 4,
 "nbformat_minor": 2
}
